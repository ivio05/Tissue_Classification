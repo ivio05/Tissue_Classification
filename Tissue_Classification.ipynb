{
  "cells": [
    {
      "cell_type": "code",
      "execution_count": 1,
      "metadata": {
        "colab": {
          "base_uri": "https://localhost:8080/"
        },
        "id": "V3RkBSqjz3PT",
        "outputId": "4126bde2-4268-432a-d7cf-b6892ded44e6"
      },
      "outputs": [
        {
          "output_type": "stream",
          "name": "stdout",
          "text": [
            "Requirement already satisfied: gdown in /usr/local/lib/python3.10/dist-packages (5.2.0)\n",
            "Requirement already satisfied: beautifulsoup4 in /usr/local/lib/python3.10/dist-packages (from gdown) (4.12.3)\n",
            "Requirement already satisfied: filelock in /usr/local/lib/python3.10/dist-packages (from gdown) (3.16.1)\n",
            "Requirement already satisfied: requests[socks] in /usr/local/lib/python3.10/dist-packages (from gdown) (2.32.3)\n",
            "Requirement already satisfied: tqdm in /usr/local/lib/python3.10/dist-packages (from gdown) (4.66.6)\n",
            "Requirement already satisfied: soupsieve>1.2 in /usr/local/lib/python3.10/dist-packages (from beautifulsoup4->gdown) (2.6)\n",
            "Requirement already satisfied: charset-normalizer<4,>=2 in /usr/local/lib/python3.10/dist-packages (from requests[socks]->gdown) (3.4.0)\n",
            "Requirement already satisfied: idna<4,>=2.5 in /usr/local/lib/python3.10/dist-packages (from requests[socks]->gdown) (3.10)\n",
            "Requirement already satisfied: urllib3<3,>=1.21.1 in /usr/local/lib/python3.10/dist-packages (from requests[socks]->gdown) (2.2.3)\n",
            "Requirement already satisfied: certifi>=2017.4.17 in /usr/local/lib/python3.10/dist-packages (from requests[socks]->gdown) (2024.8.30)\n",
            "Requirement already satisfied: PySocks!=1.5.7,>=1.5.6 in /usr/local/lib/python3.10/dist-packages (from requests[socks]->gdown) (1.7.1)\n"
          ]
        }
      ],
      "source": [
        "!pip install -q tqdm\n",
        "!pip install --upgrade --no-cache-dir gdown"
      ]
    },
    {
      "cell_type": "code",
      "execution_count": 2,
      "metadata": {
        "id": "YZOa8eSwz5pW",
        "colab": {
          "base_uri": "https://localhost:8080/"
        },
        "outputId": "222f2d0c-79fd-44d3-dec2-bdfac094e012"
      },
      "outputs": [
        {
          "output_type": "stream",
          "name": "stdout",
          "text": [
            "Mounted at /content/drive\n"
          ]
        }
      ],
      "source": [
        "from google.colab import drive\n",
        "drive.mount('/content/drive', force_remount=True)"
      ]
    },
    {
      "cell_type": "code",
      "execution_count": 12,
      "metadata": {
        "id": "E7l39KdB0ESX"
      },
      "outputs": [],
      "source": [
        "EVALUATE_ONLY = False\n",
        "TEST_ON_LARGE_DATASET = True\n",
        "TISSUE_CLASSES = ('ADI', 'BACK', 'DEB', 'LYM', 'MUC', 'MUS', 'NORM', 'STR', 'TUM')\n",
        "DATASETS_LINKS = {\n",
        "    'train': 'https://drive.google.com/file/d/1JLSdtn-9hjtLDoM0mP6gBs66ELW5I3Ta/view?usp=sharing',\n",
        "    'train_small': '1qd45xXfDwdZjktLFwQb-et-mAaFeCzOR',\n",
        "    'train_tiny': '1I-2ZOuXLd4QwhZQQltp817Kn3J0Xgbui',\n",
        "    'test': 'https://drive.google.com/file/d/1yuuebSSRxrsjtsONOkL470t2OG2arfUC/view?usp=sharing',\n",
        "    'test_small': '1wbRsog0n7uGlHIPGLhyN-PMeT2kdQ2lI',\n",
        "    'test_tiny': 'https://drive.google.com/file/d/1ZMXvZ-syUJ4eZWhzQi2z-eaIG8_5IcXA/view?usp=sharing'\n",
        "}\n",
        "\n",
        "# EVALUATE_ONLY = True\n",
        "# TEST_ON_LARGE_DATASET = True\n",
        "# TISSUE_CLASSES = ('ADI', 'BACK', 'DEB', 'LYM', 'MUC', 'MUS', 'NORM', 'STR', 'TUM')\n",
        "# DATASETS_LINKS = {\n",
        "#     'train': '1XtQzVQ5XbrfxpLHJuL0XBGJ5U7CS-cLi',\n",
        "#     'train_small': '1qd45xXfDwdZjktLFwQb-et-mAaFeCzOR',\n",
        "#     'train_tiny': '1I-2ZOuXLd4QwhZQQltp817Kn3J0Xgbui',\n",
        "#     'test': '1RfPou3pFKpuHDJZ-D9XDFzgvwpUBFlDr',\n",
        "#     'test_small': '1wbRsog0n7uGlHIPGLhyN-PMeT2kdQ2lI',\n",
        "#     'test_tiny': '1viiB0s041CNsAK4itvX8PnYthJ-MDnQc'\n",
        "# }"
      ]
    },
    {
      "cell_type": "code",
      "execution_count": 4,
      "metadata": {
        "id": "ouBrV7V-0QgL",
        "colab": {
          "base_uri": "https://localhost:8080/"
        },
        "outputId": "bceed2ec-3847-4af9-802a-e4ec6f5cbaa3"
      },
      "outputs": [
        {
          "output_type": "stream",
          "name": "stdout",
          "text": [
            "cuda:0\n"
          ]
        }
      ],
      "source": [
        "from pathlib import Path\n",
        "import numpy as np\n",
        "from typing import List\n",
        "from tqdm.notebook import tqdm\n",
        "from time import sleep\n",
        "from PIL import Image\n",
        "import IPython.display\n",
        "from sklearn.metrics import balanced_accuracy_score\n",
        "import gdown\n",
        "\n",
        "import torch\n",
        "import torch.nn as nn\n",
        "import torchvision\n",
        "from torch.utils.data import DataLoader, TensorDataset\n",
        "from torchvision.transforms import v2\n",
        "import torch.optim as optim\n",
        "import matplotlib.pyplot as plt\n",
        "\n",
        "\n",
        "device = torch.device('cuda:0' if torch.cuda.is_available() else 'cpu')\n",
        "print(device)"
      ]
    },
    {
      "cell_type": "code",
      "execution_count": 13,
      "metadata": {
        "id": "wO9RMgA20UJw"
      },
      "outputs": [],
      "source": [
        "class Dataset:\n",
        "\n",
        "    def __init__(self, name):\n",
        "        self.name = name\n",
        "        self.is_loaded = False\n",
        "\n",
        "        url = f\"{DATASETS_LINKS[name]}\"\n",
        "        output = f'{name}.npz'\n",
        "        gdown.download(output=output, url=url, fuzzy=True)\n",
        "\n",
        "        # url = f\"https://drive.google.com/uc?export=download&confirm=pbef&id={DATASETS_LINKS[name]}\"\n",
        "        # output = f'{name}.npz'\n",
        "        # gdown.download(output=output, url=url,quiet=False)\n",
        "        print(f'Loading dataset {self.name} from npz.')\n",
        "        np_obj = np.load(f'{name}.npz')\n",
        "        self.images = np_obj['data']\n",
        "        self.labels = np_obj['labels']\n",
        "        self.n_files = self.images.shape[0]\n",
        "        self.is_loaded = True\n",
        "        print(f'Done. Dataset {name} consists of {self.n_files} images.')\n",
        "\n",
        "    def image(self, i):\n",
        "        # read i-th image in dataset and return it as numpy array\n",
        "        if self.is_loaded:\n",
        "            return self.images[i, :, :, :]\n",
        "\n",
        "    def images_seq(self, n=None):\n",
        "        # sequential access to images inside dataset (is needed for testing)\n",
        "        for i in range(self.n_files if not n else n):\n",
        "            yield self.image(i)\n",
        "\n",
        "    def random_image_with_label(self):\n",
        "        # get random image with label from dataset\n",
        "        i = np.random.randint(self.n_files)\n",
        "        return self.image(i), self.labels[i]\n",
        "\n",
        "    def random_batch_with_labels(self, n):\n",
        "        # create random batch of images with labels (is needed for training)\n",
        "        indices = np.random.choice(self.n_files, n)\n",
        "        imgs = []\n",
        "        for i in indices:\n",
        "            img = self.image(i)\n",
        "            imgs.append(self.image(i))\n",
        "        logits = np.array([self.labels[i] for i in indices])\n",
        "        return np.stack(imgs), logits\n",
        "\n",
        "    def image_with_label(self, i: int):\n",
        "        # return i-th image with label from dataset\n",
        "        return self.image(i), self.labels[i]"
      ]
    },
    {
      "cell_type": "code",
      "execution_count": 6,
      "metadata": {
        "id": "UYEW6hHA0W1U"
      },
      "outputs": [],
      "source": [
        "class Metrics:\n",
        "\n",
        "    @staticmethod\n",
        "    def accuracy(gt: List[int], pred: List[int]):\n",
        "        assert len(gt) == len(pred), 'gt and prediction should be of equal length'\n",
        "        return sum(int(i[0] == i[1]) for i in zip(gt, pred)) / len(gt)\n",
        "\n",
        "    @staticmethod\n",
        "    def accuracy_balanced(gt: List[int], pred: List[int]):\n",
        "        return balanced_accuracy_score(gt, pred)\n",
        "\n",
        "    @staticmethod\n",
        "    def print_all(gt: List[int], pred: List[int], info: str):\n",
        "        print(f'metrics for {info}:')\n",
        "        print('\\t accuracy {:.4f}:'.format(Metrics.accuracy(gt, pred)))\n",
        "        print('\\t balanced accuracy {:.4f}:'.format(Metrics.accuracy_balanced(gt, pred)))"
      ]
    },
    {
      "cell_type": "code",
      "execution_count": 7,
      "metadata": {
        "id": "ChSVyyzG29iV",
        "colab": {
          "base_uri": "https://localhost:8080/"
        },
        "outputId": "9c5f360d-8076-47ed-d644-7b8bd79ccff0"
      },
      "outputs": [
        {
          "output_type": "stream",
          "name": "stderr",
          "text": [
            "Downloading...\n",
            "From (original): https://drive.google.com/uc?id=1JLSdtn-9hjtLDoM0mP6gBs66ELW5I3Ta\n",
            "From (redirected): https://drive.google.com/uc?id=1JLSdtn-9hjtLDoM0mP6gBs66ELW5I3Ta&confirm=t&uuid=018d6d7b-04ef-4d85-9e54-0551f1c71849\n",
            "To: /content/train.npz\n",
            "100%|██████████| 2.10G/2.10G [00:24<00:00, 85.6MB/s]\n"
          ]
        },
        {
          "output_type": "stream",
          "name": "stdout",
          "text": [
            "Loading dataset train from npz.\n",
            "Done. Dataset train consists of 18000 images.\n"
          ]
        },
        {
          "output_type": "stream",
          "name": "stderr",
          "text": [
            "Downloading...\n",
            "From (original): https://drive.google.com/uc?id=1yuuebSSRxrsjtsONOkL470t2OG2arfUC\n",
            "From (redirected): https://drive.google.com/uc?id=1yuuebSSRxrsjtsONOkL470t2OG2arfUC&confirm=t&uuid=13a04acf-3dac-429c-9653-61d413f4cde3\n",
            "To: /content/test.npz\n",
            "100%|██████████| 525M/525M [00:08<00:00, 59.0MB/s]\n"
          ]
        },
        {
          "output_type": "stream",
          "name": "stdout",
          "text": [
            "Loading dataset test from npz.\n",
            "Done. Dataset test consists of 4500 images.\n"
          ]
        }
      ],
      "source": [
        "from skimage.feature import graycomatrix, graycoprops\n",
        "from skimage.color import rgb2gray\n",
        "\n",
        "train = Dataset(\"train\")\n",
        "test = Dataset(\"test\")"
      ]
    },
    {
      "cell_type": "code",
      "source": [
        "class Model:\n",
        "\n",
        "    def __init__(self):\n",
        "        self.net = torchvision.models.resnet50(weights='DEFAULT').to(device)\n",
        "        self.net.fc = nn.Linear(self.net.fc.in_features, 9)\n",
        "        self.net = self.net.to(device)\n",
        "\n",
        "        self.transforms = v2.Compose([\n",
        "            v2.ToImage(),\n",
        "            v2.Resize((128, 128)),\n",
        "            v2.RandomHorizontalFlip(p=0.5),\n",
        "            v2.RandomVerticalFlip(p=0.5),\n",
        "            v2.ToDtype(torch.float32, scale=True),\n",
        "            v2.Normalize([0.74155, 0.53792, 0.70838], [0.16481, 0.21839, 0.15796])\n",
        "        ])\n",
        "\n",
        "        self.criterion = nn.CrossEntropyLoss()\n",
        "        self.optimizer = optim.Adam(self.net.parameters(), lr=0.001, weight_decay=0.001)\n",
        "\n",
        "    def save(self, name: str):\n",
        "        torch.save(self.net.state_dict(), f'/content/drive/MyDrive/{name}.pt')\n",
        "\n",
        "    def load(self, name: str):\n",
        "        name_to_id_dict = {\n",
        "            'best': 'https://drive.google.com/file/d/1Y5b7dWOZwQ63GzJcOQYK91KsYmVTxiSn/view?usp=sharing'\n",
        "        }\n",
        "        output = f'{name}.pt'\n",
        "        gdown.download(name_to_id_dict[name], output, fuzzy=True)\n",
        "        self.net.load_state_dict(torch.load(output))\n",
        "        self.net = self.net.to(device)\n",
        "        self.net.eval()\n",
        "        print(f\"Model {name} loaded\")\n",
        "\n",
        "    def train_epoch(self, train_loader):\n",
        "        self.net.train()\n",
        "        r_loss = 0.0\n",
        "        for batch_idx, (data, target) in enumerate(train_loader):\n",
        "            self.optimizer.zero_grad()\n",
        "            x = []\n",
        "            for i in range(data.shape[0]):\n",
        "                img = self.transforms(data[i])\n",
        "                x.append(img)\n",
        "\n",
        "            x = torch.tensor(np.array(x))\n",
        "            x = x.to(device)\n",
        "\n",
        "            target = target.to(device)\n",
        "            outputs = self.net(x)\n",
        "            loss = self.criterion(outputs, target)\n",
        "            r_loss += loss.item()\n",
        "            loss.backward()\n",
        "            self.optimizer.step()\n",
        "            if batch_idx % 50 == 49:\n",
        "                print(\"batch \", batch_idx + 1, \": \", loss)\n",
        "        r_loss /= len(train_loader)\n",
        "\n",
        "        return r_loss\n",
        "\n",
        "    def train(self, dataset: Dataset):\n",
        "        print(f'training started')\n",
        "\n",
        "        levels = 8\n",
        "        BATCH_SIZE = 64\n",
        "\n",
        "        X_train = torch.tensor(dataset.images).permute(0, 3, 1, 2)\n",
        "        y_train = torch.tensor(dataset.labels)\n",
        "\n",
        "        train_data = TensorDataset(X_train, y_train)\n",
        "        train_loader = DataLoader(train_data, shuffle=True, batch_size=BATCH_SIZE)\n",
        "\n",
        "        num_epochs = 25\n",
        "\n",
        "        x = np.linspace(0, num_epochs, num_epochs)\n",
        "        y = np.zeros(num_epochs)\n",
        "        for i in range(num_epochs):\n",
        "            print(\"epoch\", i + 1, \":\")\n",
        "            y[i] = self.train_epoch(train_loader)\n",
        "\n",
        "        fig, ax = plt.subplots(figsize=(10,4))\n",
        "\n",
        "        ax.plot(x, np.array(y))\n",
        "        plt.title(\"Loss by epoch\")\n",
        "        plt.show()\n",
        "\n",
        "        sleep(2)\n",
        "        print(f'training done')\n",
        "        pass\n",
        "\n",
        "    def test_on_dataset(self, dataset: Dataset, limit=None):\n",
        "        predictions = []\n",
        "        n = dataset.n_files if not limit else int(dataset.n_files * limit)\n",
        "        for img in tqdm(dataset.images_seq(n), total=n):\n",
        "            predictions.append(self.test_on_image(img))\n",
        "        return predictions\n",
        "\n",
        "    def test_on_image(self, img: np.ndarray):\n",
        "        self.net.eval()\n",
        "        resh_img = img.reshape(3, img.shape[0], img.shape[1])\n",
        "        x = torch.tensor(np.array([self.transforms(img)])).to(device)\n",
        "        outputs = self.net(x)\n",
        "\n",
        "        prediction = torch.max(outputs, 1).indices.item()\n",
        "        return prediction"
      ],
      "metadata": {
        "id": "S8ETYEWqJrXJ"
      },
      "execution_count": 11,
      "outputs": []
    },
    {
      "cell_type": "code",
      "source": [
        "model = Model()\n",
        "\n",
        "if not EVALUATE_ONLY:\n",
        "    model.train(train)\n",
        "    model.save('best')\n",
        "else:\n",
        "    model.load('best')"
      ],
      "metadata": {
        "colab": {
          "base_uri": "https://localhost:8080/",
          "height": 1000
        },
        "id": "vPEfAnXaj6JE",
        "outputId": "bfa365f4-62ae-4199-b742-9b23538f48e6"
      },
      "execution_count": 9,
      "outputs": [
        {
          "output_type": "stream",
          "name": "stderr",
          "text": [
            "Downloading: \"https://download.pytorch.org/models/resnet50-11ad3fa6.pth\" to /root/.cache/torch/hub/checkpoints/resnet50-11ad3fa6.pth\n",
            "100%|██████████| 97.8M/97.8M [00:00<00:00, 133MB/s]\n"
          ]
        },
        {
          "output_type": "stream",
          "name": "stdout",
          "text": [
            "training started\n",
            "epoch 1 :\n",
            "batch  50 :  tensor(0.5386, device='cuda:0', grad_fn=<NllLossBackward0>)\n",
            "batch  100 :  tensor(0.5194, device='cuda:0', grad_fn=<NllLossBackward0>)\n",
            "batch  150 :  tensor(0.1379, device='cuda:0', grad_fn=<NllLossBackward0>)\n",
            "batch  200 :  tensor(0.1900, device='cuda:0', grad_fn=<NllLossBackward0>)\n",
            "batch  250 :  tensor(0.1982, device='cuda:0', grad_fn=<NllLossBackward0>)\n",
            "epoch 2 :\n",
            "batch  50 :  tensor(0.0831, device='cuda:0', grad_fn=<NllLossBackward0>)\n",
            "batch  100 :  tensor(0.0454, device='cuda:0', grad_fn=<NllLossBackward0>)\n",
            "batch  150 :  tensor(0.1085, device='cuda:0', grad_fn=<NllLossBackward0>)\n",
            "batch  200 :  tensor(0.4834, device='cuda:0', grad_fn=<NllLossBackward0>)\n",
            "batch  250 :  tensor(0.0772, device='cuda:0', grad_fn=<NllLossBackward0>)\n",
            "epoch 3 :\n",
            "batch  50 :  tensor(0.1528, device='cuda:0', grad_fn=<NllLossBackward0>)\n",
            "batch  100 :  tensor(0.1672, device='cuda:0', grad_fn=<NllLossBackward0>)\n",
            "batch  150 :  tensor(0.0386, device='cuda:0', grad_fn=<NllLossBackward0>)\n",
            "batch  200 :  tensor(0.1722, device='cuda:0', grad_fn=<NllLossBackward0>)\n",
            "batch  250 :  tensor(0.0937, device='cuda:0', grad_fn=<NllLossBackward0>)\n",
            "epoch 4 :\n",
            "batch  50 :  tensor(0.1414, device='cuda:0', grad_fn=<NllLossBackward0>)\n",
            "batch  100 :  tensor(0.2576, device='cuda:0', grad_fn=<NllLossBackward0>)\n",
            "batch  150 :  tensor(0.1735, device='cuda:0', grad_fn=<NllLossBackward0>)\n",
            "batch  200 :  tensor(0.0789, device='cuda:0', grad_fn=<NllLossBackward0>)\n",
            "batch  250 :  tensor(0.0395, device='cuda:0', grad_fn=<NllLossBackward0>)\n",
            "epoch 5 :\n",
            "batch  50 :  tensor(0.2105, device='cuda:0', grad_fn=<NllLossBackward0>)\n",
            "batch  100 :  tensor(0.1193, device='cuda:0', grad_fn=<NllLossBackward0>)\n",
            "batch  150 :  tensor(0.1279, device='cuda:0', grad_fn=<NllLossBackward0>)\n",
            "batch  200 :  tensor(0.2297, device='cuda:0', grad_fn=<NllLossBackward0>)\n",
            "batch  250 :  tensor(0.2074, device='cuda:0', grad_fn=<NllLossBackward0>)\n",
            "epoch 6 :\n",
            "batch  50 :  tensor(0.2263, device='cuda:0', grad_fn=<NllLossBackward0>)\n",
            "batch  100 :  tensor(0.0747, device='cuda:0', grad_fn=<NllLossBackward0>)\n",
            "batch  150 :  tensor(0.1713, device='cuda:0', grad_fn=<NllLossBackward0>)\n",
            "batch  200 :  tensor(0.0637, device='cuda:0', grad_fn=<NllLossBackward0>)\n",
            "batch  250 :  tensor(0.2095, device='cuda:0', grad_fn=<NllLossBackward0>)\n",
            "epoch 7 :\n",
            "batch  50 :  tensor(0.1849, device='cuda:0', grad_fn=<NllLossBackward0>)\n",
            "batch  100 :  tensor(0.0633, device='cuda:0', grad_fn=<NllLossBackward0>)\n",
            "batch  150 :  tensor(0.1262, device='cuda:0', grad_fn=<NllLossBackward0>)\n",
            "batch  200 :  tensor(0.1133, device='cuda:0', grad_fn=<NllLossBackward0>)\n",
            "batch  250 :  tensor(0.1243, device='cuda:0', grad_fn=<NllLossBackward0>)\n",
            "epoch 8 :\n",
            "batch  50 :  tensor(0.2075, device='cuda:0', grad_fn=<NllLossBackward0>)\n",
            "batch  100 :  tensor(0.0719, device='cuda:0', grad_fn=<NllLossBackward0>)\n",
            "batch  150 :  tensor(0.4095, device='cuda:0', grad_fn=<NllLossBackward0>)\n",
            "batch  200 :  tensor(0.3134, device='cuda:0', grad_fn=<NllLossBackward0>)\n",
            "batch  250 :  tensor(0.1731, device='cuda:0', grad_fn=<NllLossBackward0>)\n",
            "epoch 9 :\n",
            "batch  50 :  tensor(0.0812, device='cuda:0', grad_fn=<NllLossBackward0>)\n",
            "batch  100 :  tensor(0.0799, device='cuda:0', grad_fn=<NllLossBackward0>)\n",
            "batch  150 :  tensor(0.1262, device='cuda:0', grad_fn=<NllLossBackward0>)\n",
            "batch  200 :  tensor(0.0996, device='cuda:0', grad_fn=<NllLossBackward0>)\n",
            "batch  250 :  tensor(0.2200, device='cuda:0', grad_fn=<NllLossBackward0>)\n",
            "epoch 10 :\n",
            "batch  50 :  tensor(0.0721, device='cuda:0', grad_fn=<NllLossBackward0>)\n",
            "batch  100 :  tensor(0.2262, device='cuda:0', grad_fn=<NllLossBackward0>)\n",
            "batch  150 :  tensor(0.0442, device='cuda:0', grad_fn=<NllLossBackward0>)\n",
            "batch  200 :  tensor(0.0317, device='cuda:0', grad_fn=<NllLossBackward0>)\n",
            "batch  250 :  tensor(0.1936, device='cuda:0', grad_fn=<NllLossBackward0>)\n",
            "epoch 11 :\n",
            "batch  50 :  tensor(0.1584, device='cuda:0', grad_fn=<NllLossBackward0>)\n",
            "batch  100 :  tensor(0.1092, device='cuda:0', grad_fn=<NllLossBackward0>)\n",
            "batch  150 :  tensor(0.0937, device='cuda:0', grad_fn=<NllLossBackward0>)\n",
            "batch  200 :  tensor(0.1920, device='cuda:0', grad_fn=<NllLossBackward0>)\n",
            "batch  250 :  tensor(0.1632, device='cuda:0', grad_fn=<NllLossBackward0>)\n",
            "epoch 12 :\n",
            "batch  50 :  tensor(0.1436, device='cuda:0', grad_fn=<NllLossBackward0>)\n",
            "batch  100 :  tensor(0.0638, device='cuda:0', grad_fn=<NllLossBackward0>)\n",
            "batch  150 :  tensor(0.0237, device='cuda:0', grad_fn=<NllLossBackward0>)\n",
            "batch  200 :  tensor(0.2498, device='cuda:0', grad_fn=<NllLossBackward0>)\n",
            "batch  250 :  tensor(0.0560, device='cuda:0', grad_fn=<NllLossBackward0>)\n",
            "epoch 13 :\n",
            "batch  50 :  tensor(0.0147, device='cuda:0', grad_fn=<NllLossBackward0>)\n",
            "batch  100 :  tensor(0.0518, device='cuda:0', grad_fn=<NllLossBackward0>)\n",
            "batch  150 :  tensor(0.1393, device='cuda:0', grad_fn=<NllLossBackward0>)\n",
            "batch  200 :  tensor(0.1253, device='cuda:0', grad_fn=<NllLossBackward0>)\n",
            "batch  250 :  tensor(0.0535, device='cuda:0', grad_fn=<NllLossBackward0>)\n",
            "epoch 14 :\n",
            "batch  50 :  tensor(0.0183, device='cuda:0', grad_fn=<NllLossBackward0>)\n",
            "batch  100 :  tensor(0.1514, device='cuda:0', grad_fn=<NllLossBackward0>)\n",
            "batch  150 :  tensor(0.3385, device='cuda:0', grad_fn=<NllLossBackward0>)\n",
            "batch  200 :  tensor(0.0692, device='cuda:0', grad_fn=<NllLossBackward0>)\n",
            "batch  250 :  tensor(0.0975, device='cuda:0', grad_fn=<NllLossBackward0>)\n",
            "epoch 15 :\n",
            "batch  50 :  tensor(0.0682, device='cuda:0', grad_fn=<NllLossBackward0>)\n",
            "batch  100 :  tensor(0.1526, device='cuda:0', grad_fn=<NllLossBackward0>)\n",
            "batch  150 :  tensor(0.0506, device='cuda:0', grad_fn=<NllLossBackward0>)\n",
            "batch  200 :  tensor(0.2022, device='cuda:0', grad_fn=<NllLossBackward0>)\n",
            "batch  250 :  tensor(0.2255, device='cuda:0', grad_fn=<NllLossBackward0>)\n",
            "epoch 16 :\n",
            "batch  50 :  tensor(0.0952, device='cuda:0', grad_fn=<NllLossBackward0>)\n",
            "batch  100 :  tensor(0.0942, device='cuda:0', grad_fn=<NllLossBackward0>)\n",
            "batch  150 :  tensor(0.1610, device='cuda:0', grad_fn=<NllLossBackward0>)\n",
            "batch  200 :  tensor(0.0382, device='cuda:0', grad_fn=<NllLossBackward0>)\n",
            "batch  250 :  tensor(0.1346, device='cuda:0', grad_fn=<NllLossBackward0>)\n",
            "epoch 17 :\n",
            "batch  50 :  tensor(0.0612, device='cuda:0', grad_fn=<NllLossBackward0>)\n",
            "batch  100 :  tensor(0.0281, device='cuda:0', grad_fn=<NllLossBackward0>)\n",
            "batch  150 :  tensor(0.0389, device='cuda:0', grad_fn=<NllLossBackward0>)\n",
            "batch  200 :  tensor(0.0524, device='cuda:0', grad_fn=<NllLossBackward0>)\n",
            "batch  250 :  tensor(0.0187, device='cuda:0', grad_fn=<NllLossBackward0>)\n",
            "epoch 18 :\n",
            "batch  50 :  tensor(0.1604, device='cuda:0', grad_fn=<NllLossBackward0>)\n",
            "batch  100 :  tensor(0.0661, device='cuda:0', grad_fn=<NllLossBackward0>)\n",
            "batch  150 :  tensor(0.0854, device='cuda:0', grad_fn=<NllLossBackward0>)\n",
            "batch  200 :  tensor(0.0543, device='cuda:0', grad_fn=<NllLossBackward0>)\n",
            "batch  250 :  tensor(0.1105, device='cuda:0', grad_fn=<NllLossBackward0>)\n",
            "epoch 19 :\n",
            "batch  50 :  tensor(0.1253, device='cuda:0', grad_fn=<NllLossBackward0>)\n",
            "batch  100 :  tensor(0.0580, device='cuda:0', grad_fn=<NllLossBackward0>)\n",
            "batch  150 :  tensor(0.0615, device='cuda:0', grad_fn=<NllLossBackward0>)\n",
            "batch  200 :  tensor(0.1538, device='cuda:0', grad_fn=<NllLossBackward0>)\n",
            "batch  250 :  tensor(0.0538, device='cuda:0', grad_fn=<NllLossBackward0>)\n",
            "epoch 20 :\n",
            "batch  50 :  tensor(0.2477, device='cuda:0', grad_fn=<NllLossBackward0>)\n",
            "batch  100 :  tensor(0.0609, device='cuda:0', grad_fn=<NllLossBackward0>)\n",
            "batch  150 :  tensor(0.0956, device='cuda:0', grad_fn=<NllLossBackward0>)\n",
            "batch  200 :  tensor(0.1620, device='cuda:0', grad_fn=<NllLossBackward0>)\n",
            "batch  250 :  tensor(0.1042, device='cuda:0', grad_fn=<NllLossBackward0>)\n",
            "epoch 21 :\n",
            "batch  50 :  tensor(0.0588, device='cuda:0', grad_fn=<NllLossBackward0>)\n",
            "batch  100 :  tensor(0.0617, device='cuda:0', grad_fn=<NllLossBackward0>)\n",
            "batch  150 :  tensor(0.0404, device='cuda:0', grad_fn=<NllLossBackward0>)\n",
            "batch  200 :  tensor(0.0959, device='cuda:0', grad_fn=<NllLossBackward0>)\n",
            "batch  250 :  tensor(0.0349, device='cuda:0', grad_fn=<NllLossBackward0>)\n",
            "epoch 22 :\n",
            "batch  50 :  tensor(0.2569, device='cuda:0', grad_fn=<NllLossBackward0>)\n",
            "batch  100 :  tensor(0.1323, device='cuda:0', grad_fn=<NllLossBackward0>)\n",
            "batch  150 :  tensor(0.0135, device='cuda:0', grad_fn=<NllLossBackward0>)\n",
            "batch  200 :  tensor(0.1289, device='cuda:0', grad_fn=<NllLossBackward0>)\n",
            "batch  250 :  tensor(0.0430, device='cuda:0', grad_fn=<NllLossBackward0>)\n",
            "epoch 23 :\n",
            "batch  50 :  tensor(0.0683, device='cuda:0', grad_fn=<NllLossBackward0>)\n",
            "batch  100 :  tensor(0.0693, device='cuda:0', grad_fn=<NllLossBackward0>)\n",
            "batch  150 :  tensor(0.0268, device='cuda:0', grad_fn=<NllLossBackward0>)\n",
            "batch  200 :  tensor(0.2201, device='cuda:0', grad_fn=<NllLossBackward0>)\n",
            "batch  250 :  tensor(0.1184, device='cuda:0', grad_fn=<NllLossBackward0>)\n",
            "epoch 24 :\n",
            "batch  50 :  tensor(0.0807, device='cuda:0', grad_fn=<NllLossBackward0>)\n",
            "batch  100 :  tensor(0.1068, device='cuda:0', grad_fn=<NllLossBackward0>)\n",
            "batch  150 :  tensor(0.0850, device='cuda:0', grad_fn=<NllLossBackward0>)\n",
            "batch  200 :  tensor(0.1604, device='cuda:0', grad_fn=<NllLossBackward0>)\n",
            "batch  250 :  tensor(0.0700, device='cuda:0', grad_fn=<NllLossBackward0>)\n",
            "epoch 25 :\n",
            "batch  50 :  tensor(0.1575, device='cuda:0', grad_fn=<NllLossBackward0>)\n",
            "batch  100 :  tensor(0.1004, device='cuda:0', grad_fn=<NllLossBackward0>)\n",
            "batch  150 :  tensor(0.0636, device='cuda:0', grad_fn=<NllLossBackward0>)\n",
            "batch  200 :  tensor(0.1862, device='cuda:0', grad_fn=<NllLossBackward0>)\n",
            "batch  250 :  tensor(0.1115, device='cuda:0', grad_fn=<NllLossBackward0>)\n"
          ]
        },
        {
          "output_type": "display_data",
          "data": {
            "text/plain": [
              "<Figure size 1000x400 with 1 Axes>"
            ],
            "image/png": "[encoded data removed]"
          },
          "metadata": {}
        },
        {
          "output_type": "stream",
          "name": "stdout",
          "text": [
            "training done\n"
          ]
        }
      ]
    },
    {
      "cell_type": "code",
      "source": [
        "pred = model.test_on_dataset(test)\n",
        "Metrics.print_all(test.labels, pred, info = \"test dataset\")"
      ],
      "metadata": {
        "colab": {
          "base_uri": "https://localhost:8080/",
          "height": 101,
          "referenced_widgets": [
            "96fa0dea04ee4093a4708f28d116df65",
            "5d865ad3f0a04afeab2ea71f28400d64",
            "404588e1b72045708cf6cc47858b9515",
            "7fce4690675b4a2eb04df5fe8ca019d4",
            "daaba21630b240cb8cd0005fa5e52e0c",
            "492d922bce2d45d4a65cf664d5c40ed2",
            "74b33a5c8f544ea7b28b05a862ac7264",
            "d702fabdae82473d9ea083953e390ba8",
            "d7b07b06ba374a0eb404566e3d90ee24",
            "aa33420471c24b179d136c3b0e62b337",
            "9413e9f275d74a2983792245c9513073"
          ]
        },
        "id": "AbViJ4-jk8Qy",
        "outputId": "29407d39-052d-4152-eca7-79b8b1cf5e7c"
      },
      "execution_count": 10,
      "outputs": [
        {
          "output_type": "display_data",
          "data": {
            "text/plain": [
              "  0%|          | 0/4500 [00:00<?, ?it/s]"
            ],
            "application/vnd.jupyter.widget-view+json": {
              "version_major": 2,
              "version_minor": 0,
              "model_id": "96fa0dea04ee4093a4708f28d116df65"
            }
          },
          "metadata": {}
        },
        {
          "output_type": "stream",
          "name": "stdout",
          "text": [
            "metrics for test dataset:\n",
            "\t accuracy 0.9642:\n",
            "\t balanced accuracy 0.9642:\n"
          ]
        }
      ]
    },
    {
      "cell_type": "code",
      "source": [
        "final_model = Model()\n",
        "final_model.load('best')\n",
        "d_test_tiny = Dataset('test_tiny')\n",
        "pred_2 = final_model.test_on_dataset(d_test_tiny)\n",
        "Metrics.print_all(d_test_tiny.labels, pred_2, 'test-tiny')"
      ],
      "metadata": {
        "id": "OeiPZcSplrvM",
        "colab": {
          "base_uri": "https://localhost:8080/",
          "height": 364,
          "referenced_widgets": [
            "f630a23a139f4dfcab7f9ead9b91a6f7",
            "5af82343117a49b58b5324cd0290d693",
            "6598fb96663147d89b1eeb446f5926f7",
            "de8b914c0bb148b9a9d47793578e0674",
            "aa387b6242254dc3a81543a7de2ce160",
            "666f83515d054098be2d7384b5fc359a",
            "e46ffa9f5a7d42679c4b0ccba3c38f3d",
            "0a11a2c588fa4e2fb8e0dd0e40a15d62",
            "a006b0fcfaa14b86a1bb39ad5317d318",
            "2b886bfee04a4c668b74ac1b5a971b72",
            "8c4e9dfc08134b80be2cb10f21291f7e"
          ]
        },
        "outputId": "a34137d8-2e36-4a76-d4d9-9e307588f7b7"
      },
      "execution_count": 14,
      "outputs": [
        {
          "output_type": "stream",
          "name": "stderr",
          "text": [
            "Downloading...\n",
            "From (original): https://drive.google.com/uc?id=1Y5b7dWOZwQ63GzJcOQYK91KsYmVTxiSn\n",
            "From (redirected): https://drive.google.com/uc?id=1Y5b7dWOZwQ63GzJcOQYK91KsYmVTxiSn&confirm=t&uuid=a481aec7-adaf-49b6-818f-2b86bf139979\n",
            "To: /content/best.pt\n",
            "100%|██████████| 94.4M/94.4M [00:00<00:00, 122MB/s]\n",
            "<ipython-input-11-c5da5f55341a>:29: FutureWarning: You are using `torch.load` with `weights_only=False` (the current default value), which uses the default pickle module implicitly. It is possible to construct malicious pickle data which will execute arbitrary code during unpickling (See https://github.com/pytorch/pytorch/blob/main/SECURITY.md#untrusted-models for more details). In a future release, the default value for `weights_only` will be flipped to `True`. This limits the functions that could be executed during unpickling. Arbitrary objects will no longer be allowed to be loaded via this mode unless they are explicitly allowlisted by the user via `torch.serialization.add_safe_globals`. We recommend you start setting `weights_only=True` for any use case where you don't have full control of the loaded file. Please open an issue on GitHub for any issues related to this experimental feature.\n",
            "  self.net.load_state_dict(torch.load(output))\n"
          ]
        },
        {
          "output_type": "stream",
          "name": "stdout",
          "text": [
            "Model best loaded\n"
          ]
        },
        {
          "output_type": "stream",
          "name": "stderr",
          "text": [
            "Downloading...\n",
            "From: https://drive.google.com/uc?id=1ZMXvZ-syUJ4eZWhzQi2z-eaIG8_5IcXA\n",
            "To: /content/test_tiny.npz\n",
            "100%|██████████| 10.6M/10.6M [00:00<00:00, 27.4MB/s]"
          ]
        },
        {
          "output_type": "stream",
          "name": "stdout",
          "text": [
            "Loading dataset test_tiny from npz.\n",
            "Done. Dataset test_tiny consists of 90 images.\n"
          ]
        },
        {
          "output_type": "stream",
          "name": "stderr",
          "text": [
            "\n"
          ]
        },
        {
          "output_type": "display_data",
          "data": {
            "text/plain": [
              "  0%|          | 0/90 [00:00<?, ?it/s]"
            ],
            "application/vnd.jupyter.widget-view+json": {
              "version_major": 2,
              "version_minor": 0,
              "model_id": "f630a23a139f4dfcab7f9ead9b91a6f7"
            }
          },
          "metadata": {}
        },
        {
          "output_type": "stream",
          "name": "stdout",
          "text": [
            "metrics for test-tiny:\n",
            "\t accuracy 0.9000:\n",
            "\t balanced accuracy 0.9000:\n"
          ]
        }
      ]
    },
    {
      "cell_type": "code",
      "source": [],
      "metadata": {
        "id": "8Cjv9hdCC1t_"
      },
      "execution_count": null,
      "outputs": []
    }
  ],
  "metadata": {
    "accelerator": "GPU",
    "colab": {
      "gpuType": "T4",
      "provenance": []
    },
    "kernelspec": {
      "display_name": "Python 3",
      "name": "python3"
    },
    "language_info": {
      "name": "python"
    },
    "widgets": {
      "application/vnd.jupyter.widget-state+json": {
        "96fa0dea04ee4093a4708f28d116df65": {
          "model_module": "@jupyter-widgets/controls",
          "model_name": "HBoxModel",
          "model_module_version": "1.5.0",
          "state": {
            "_dom_classes": [],
            "_model_module": "@jupyter-widgets/controls",
            "_model_module_version": "1.5.0",
            "_model_name": "HBoxModel",
            "_view_count": null,
            "_view_module": "@jupyter-widgets/controls",
            "_view_module_version": "1.5.0",
            "_view_name": "HBoxView",
            "box_style": "",
            "children": [
              "IPY_MODEL_5d865ad3f0a04afeab2ea71f28400d64",
              "IPY_MODEL_404588e1b72045708cf6cc47858b9515",
              "IPY_MODEL_7fce4690675b4a2eb04df5fe8ca019d4"
            ],
            "layout": "IPY_MODEL_daaba21630b240cb8cd0005fa5e52e0c"
          }
        },
        "5d865ad3f0a04afeab2ea71f28400d64": {
          "model_module": "@jupyter-widgets/controls",
          "model_name": "HTMLModel",
          "model_module_version": "1.5.0",
          "state": {
            "_dom_classes": [],
            "_model_module": "@jupyter-widgets/controls",
            "_model_module_version": "1.5.0",
            "_model_name": "HTMLModel",
            "_view_count": null,
            "_view_module": "@jupyter-widgets/controls",
            "_view_module_version": "1.5.0",
            "_view_name": "HTMLView",
            "description": "",
            "description_tooltip": null,
            "layout": "IPY_MODEL_492d922bce2d45d4a65cf664d5c40ed2",
            "placeholder": "​",
            "style": "IPY_MODEL_74b33a5c8f544ea7b28b05a862ac7264",
            "value": "100%"
          }
        },
        "404588e1b72045708cf6cc47858b9515": {
          "model_module": "@jupyter-widgets/controls",
          "model_name": "FloatProgressModel",
          "model_module_version": "1.5.0",
          "state": {
            "_dom_classes": [],
            "_model_module": "@jupyter-widgets/controls",
            "_model_module_version": "1.5.0",
            "_model_name": "FloatProgressModel",
            "_view_count": null,
            "_view_module": "@jupyter-widgets/controls",
            "_view_module_version": "1.5.0",
            "_view_name": "ProgressView",
            "bar_style": "success",
            "description": "",
            "description_tooltip": null,
            "layout": "IPY_MODEL_d702fabdae82473d9ea083953e390ba8",
            "max": 4500,
            "min": 0,
            "orientation": "horizontal",
            "style": "IPY_MODEL_d7b07b06ba374a0eb404566e3d90ee24",
            "value": 4500
          }
        },
        "7fce4690675b4a2eb04df5fe8ca019d4": {
          "model_module": "@jupyter-widgets/controls",
          "model_name": "HTMLModel",
          "model_module_version": "1.5.0",
          "state": {
            "_dom_classes": [],
            "_model_module": "@jupyter-widgets/controls",
            "_model_module_version": "1.5.0",
            "_model_name": "HTMLModel",
            "_view_count": null,
            "_view_module": "@jupyter-widgets/controls",
            "_view_module_version": "1.5.0",
            "_view_name": "HTMLView",
            "description": "",
            "description_tooltip": null,
            "layout": "IPY_MODEL_aa33420471c24b179d136c3b0e62b337",
            "placeholder": "​",
            "style": "IPY_MODEL_9413e9f275d74a2983792245c9513073",
            "value": " 4500/4500 [00:53&lt;00:00, 96.33it/s]"
          }
        },
        "daaba21630b240cb8cd0005fa5e52e0c": {
          "model_module": "@jupyter-widgets/base",
          "model_name": "LayoutModel",
          "model_module_version": "1.2.0",
          "state": {
            "_model_module": "@jupyter-widgets/base",
            "_model_module_version": "1.2.0",
            "_model_name": "LayoutModel",
            "_view_count": null,
            "_view_module": "@jupyter-widgets/base",
            "_view_module_version": "1.2.0",
            "_view_name": "LayoutView",
            "align_content": null,
            "align_items": null,
            "align_self": null,
            "border": null,
            "bottom": null,
            "display": null,
            "flex": null,
            "flex_flow": null,
            "grid_area": null,
            "grid_auto_columns": null,
            "grid_auto_flow": null,
            "grid_auto_rows": null,
            "grid_column": null,
            "grid_gap": null,
            "grid_row": null,
            "grid_template_areas": null,
            "grid_template_columns": null,
            "grid_template_rows": null,
            "height": null,
            "justify_content": null,
            "justify_items": null,
            "left": null,
            "margin": null,
            "max_height": null,
            "max_width": null,
            "min_height": null,
            "min_width": null,
            "object_fit": null,
            "object_position": null,
            "order": null,
            "overflow": null,
            "overflow_x": null,
            "overflow_y": null,
            "padding": null,
            "right": null,
            "top": null,
            "visibility": null,
            "width": null
          }
        },
        "492d922bce2d45d4a65cf664d5c40ed2": {
          "model_module": "@jupyter-widgets/base",
          "model_name": "LayoutModel",
          "model_module_version": "1.2.0",
          "state": {
            "_model_module": "@jupyter-widgets/base",
            "_model_module_version": "1.2.0",
            "_model_name": "LayoutModel",
            "_view_count": null,
            "_view_module": "@jupyter-widgets/base",
            "_view_module_version": "1.2.0",
            "_view_name": "LayoutView",
            "align_content": null,
            "align_items": null,
            "align_self": null,
            "border": null,
            "bottom": null,
            "display": null,
            "flex": null,
            "flex_flow": null,
            "grid_area": null,
            "grid_auto_columns": null,
            "grid_auto_flow": null,
            "grid_auto_rows": null,
            "grid_column": null,
            "grid_gap": null,
            "grid_row": null,
            "grid_template_areas": null,
            "grid_template_columns": null,
            "grid_template_rows": null,
            "height": null,
            "justify_content": null,
            "justify_items": null,
            "left": null,
            "margin": null,
            "max_height": null,
            "max_width": null,
            "min_height": null,
            "min_width": null,
            "object_fit": null,
            "object_position": null,
            "order": null,
            "overflow": null,
            "overflow_x": null,
            "overflow_y": null,
            "padding": null,
            "right": null,
            "top": null,
            "visibility": null,
            "width": null
          }
        },
        "74b33a5c8f544ea7b28b05a862ac7264": {
          "model_module": "@jupyter-widgets/controls",
          "model_name": "DescriptionStyleModel",
          "model_module_version": "1.5.0",
          "state": {
            "_model_module": "@jupyter-widgets/controls",
            "_model_module_version": "1.5.0",
            "_model_name": "DescriptionStyleModel",
            "_view_count": null,
            "_view_module": "@jupyter-widgets/base",
            "_view_module_version": "1.2.0",
            "_view_name": "StyleView",
            "description_width": ""
          }
        },
        "d702fabdae82473d9ea083953e390ba8": {
          "model_module": "@jupyter-widgets/base",
          "model_name": "LayoutModel",
          "model_module_version": "1.2.0",
          "state": {
            "_model_module": "@jupyter-widgets/base",
            "_model_module_version": "1.2.0",
            "_model_name": "LayoutModel",
            "_view_count": null,
            "_view_module": "@jupyter-widgets/base",
            "_view_module_version": "1.2.0",
            "_view_name": "LayoutView",
            "align_content": null,
            "align_items": null,
            "align_self": null,
            "border": null,
            "bottom": null,
            "display": null,
            "flex": null,
            "flex_flow": null,
            "grid_area": null,
            "grid_auto_columns": null,
            "grid_auto_flow": null,
            "grid_auto_rows": null,
            "grid_column": null,
            "grid_gap": null,
            "grid_row": null,
            "grid_template_areas": null,
            "grid_template_columns": null,
            "grid_template_rows": null,
            "height": null,
            "justify_content": null,
            "justify_items": null,
            "left": null,
            "margin": null,
            "max_height": null,
            "max_width": null,
            "min_height": null,
            "min_width": null,
            "object_fit": null,
            "object_position": null,
            "order": null,
            "overflow": null,
            "overflow_x": null,
            "overflow_y": null,
            "padding": null,
            "right": null,
            "top": null,
            "visibility": null,
            "width": null
          }
        },
        "d7b07b06ba374a0eb404566e3d90ee24": {
          "model_module": "@jupyter-widgets/controls",
          "model_name": "ProgressStyleModel",
          "model_module_version": "1.5.0",
          "state": {
            "_model_module": "@jupyter-widgets/controls",
            "_model_module_version": "1.5.0",
            "_model_name": "ProgressStyleModel",
            "_view_count": null,
            "_view_module": "@jupyter-widgets/base",
            "_view_module_version": "1.2.0",
            "_view_name": "StyleView",
            "bar_color": null,
            "description_width": ""
          }
        },
        "aa33420471c24b179d136c3b0e62b337": {
          "model_module": "@jupyter-widgets/base",
          "model_name": "LayoutModel",
          "model_module_version": "1.2.0",
          "state": {
            "_model_module": "@jupyter-widgets/base",
            "_model_module_version": "1.2.0",
            "_model_name": "LayoutModel",
            "_view_count": null,
            "_view_module": "@jupyter-widgets/base",
            "_view_module_version": "1.2.0",
            "_view_name": "LayoutView",
            "align_content": null,
            "align_items": null,
            "align_self": null,
            "border": null,
            "bottom": null,
            "display": null,
            "flex": null,
            "flex_flow": null,
            "grid_area": null,
            "grid_auto_columns": null,
            "grid_auto_flow": null,
            "grid_auto_rows": null,
            "grid_column": null,
            "grid_gap": null,
            "grid_row": null,
            "grid_template_areas": null,
            "grid_template_columns": null,
            "grid_template_rows": null,
            "height": null,
            "justify_content": null,
            "justify_items": null,
            "left": null,
            "margin": null,
            "max_height": null,
            "max_width": null,
            "min_height": null,
            "min_width": null,
            "object_fit": null,
            "object_position": null,
            "order": null,
            "overflow": null,
            "overflow_x": null,
            "overflow_y": null,
            "padding": null,
            "right": null,
            "top": null,
            "visibility": null,
            "width": null
          }
        },
        "9413e9f275d74a2983792245c9513073": {
          "model_module": "@jupyter-widgets/controls",
          "model_name": "DescriptionStyleModel",
          "model_module_version": "1.5.0",
          "state": {
            "_model_module": "@jupyter-widgets/controls",
            "_model_module_version": "1.5.0",
            "_model_name": "DescriptionStyleModel",
            "_view_count": null,
            "_view_module": "@jupyter-widgets/base",
            "_view_module_version": "1.2.0",
            "_view_name": "StyleView",
            "description_width": ""
          }
        },
        "f630a23a139f4dfcab7f9ead9b91a6f7": {
          "model_module": "@jupyter-widgets/controls",
          "model_name": "HBoxModel",
          "model_module_version": "1.5.0",
          "state": {
            "_dom_classes": [],
            "_model_module": "@jupyter-widgets/controls",
            "_model_module_version": "1.5.0",
            "_model_name": "HBoxModel",
            "_view_count": null,
            "_view_module": "@jupyter-widgets/controls",
            "_view_module_version": "1.5.0",
            "_view_name": "HBoxView",
            "box_style": "",
            "children": [
              "IPY_MODEL_5af82343117a49b58b5324cd0290d693",
              "IPY_MODEL_6598fb96663147d89b1eeb446f5926f7",
              "IPY_MODEL_de8b914c0bb148b9a9d47793578e0674"
            ],
            "layout": "IPY_MODEL_aa387b6242254dc3a81543a7de2ce160"
          }
        },
        "5af82343117a49b58b5324cd0290d693": {
          "model_module": "@jupyter-widgets/controls",
          "model_name": "HTMLModel",
          "model_module_version": "1.5.0",
          "state": {
            "_dom_classes": [],
            "_model_module": "@jupyter-widgets/controls",
            "_model_module_version": "1.5.0",
            "_model_name": "HTMLModel",
            "_view_count": null,
            "_view_module": "@jupyter-widgets/controls",
            "_view_module_version": "1.5.0",
            "_view_name": "HTMLView",
            "description": "",
            "description_tooltip": null,
            "layout": "IPY_MODEL_666f83515d054098be2d7384b5fc359a",
            "placeholder": "​",
            "style": "IPY_MODEL_e46ffa9f5a7d42679c4b0ccba3c38f3d",
            "value": "100%"
          }
        },
        "6598fb96663147d89b1eeb446f5926f7": {
          "model_module": "@jupyter-widgets/controls",
          "model_name": "FloatProgressModel",
          "model_module_version": "1.5.0",
          "state": {
            "_dom_classes": [],
            "_model_module": "@jupyter-widgets/controls",
            "_model_module_version": "1.5.0",
            "_model_name": "FloatProgressModel",
            "_view_count": null,
            "_view_module": "@jupyter-widgets/controls",
            "_view_module_version": "1.5.0",
            "_view_name": "ProgressView",
            "bar_style": "success",
            "description": "",
            "description_tooltip": null,
            "layout": "IPY_MODEL_0a11a2c588fa4e2fb8e0dd0e40a15d62",
            "max": 90,
            "min": 0,
            "orientation": "horizontal",
            "style": "IPY_MODEL_a006b0fcfaa14b86a1bb39ad5317d318",
            "value": 90
          }
        },
        "de8b914c0bb148b9a9d47793578e0674": {
          "model_module": "@jupyter-widgets/controls",
          "model_name": "HTMLModel",
          "model_module_version": "1.5.0",
          "state": {
            "_dom_classes": [],
            "_model_module": "@jupyter-widgets/controls",
            "_model_module_version": "1.5.0",
            "_model_name": "HTMLModel",
            "_view_count": null,
            "_view_module": "@jupyter-widgets/controls",
            "_view_module_version": "1.5.0",
            "_view_name": "HTMLView",
            "description": "",
            "description_tooltip": null,
            "layout": "IPY_MODEL_2b886bfee04a4c668b74ac1b5a971b72",
            "placeholder": "​",
            "style": "IPY_MODEL_8c4e9dfc08134b80be2cb10f21291f7e",
            "value": " 90/90 [00:01&lt;00:00, 88.30it/s]"
          }
        },
        "aa387b6242254dc3a81543a7de2ce160": {
          "model_module": "@jupyter-widgets/base",
          "model_name": "LayoutModel",
          "model_module_version": "1.2.0",
          "state": {
            "_model_module": "@jupyter-widgets/base",
            "_model_module_version": "1.2.0",
            "_model_name": "LayoutModel",
            "_view_count": null,
            "_view_module": "@jupyter-widgets/base",
            "_view_module_version": "1.2.0",
            "_view_name": "LayoutView",
            "align_content": null,
            "align_items": null,
            "align_self": null,
            "border": null,
            "bottom": null,
            "display": null,
            "flex": null,
            "flex_flow": null,
            "grid_area": null,
            "grid_auto_columns": null,
            "grid_auto_flow": null,
            "grid_auto_rows": null,
            "grid_column": null,
            "grid_gap": null,
            "grid_row": null,
            "grid_template_areas": null,
            "grid_template_columns": null,
            "grid_template_rows": null,
            "height": null,
            "justify_content": null,
            "justify_items": null,
            "left": null,
            "margin": null,
            "max_height": null,
            "max_width": null,
            "min_height": null,
            "min_width": null,
            "object_fit": null,
            "object_position": null,
            "order": null,
            "overflow": null,
            "overflow_x": null,
            "overflow_y": null,
            "padding": null,
            "right": null,
            "top": null,
            "visibility": null,
            "width": null
          }
        },
        "666f83515d054098be2d7384b5fc359a": {
          "model_module": "@jupyter-widgets/base",
          "model_name": "LayoutModel",
          "model_module_version": "1.2.0",
          "state": {
            "_model_module": "@jupyter-widgets/base",
            "_model_module_version": "1.2.0",
            "_model_name": "LayoutModel",
            "_view_count": null,
            "_view_module": "@jupyter-widgets/base",
            "_view_module_version": "1.2.0",
            "_view_name": "LayoutView",
            "align_content": null,
            "align_items": null,
            "align_self": null,
            "border": null,
            "bottom": null,
            "display": null,
            "flex": null,
            "flex_flow": null,
            "grid_area": null,
            "grid_auto_columns": null,
            "grid_auto_flow": null,
            "grid_auto_rows": null,
            "grid_column": null,
            "grid_gap": null,
            "grid_row": null,
            "grid_template_areas": null,
            "grid_template_columns": null,
            "grid_template_rows": null,
            "height": null,
            "justify_content": null,
            "justify_items": null,
            "left": null,
            "margin": null,
            "max_height": null,
            "max_width": null,
            "min_height": null,
            "min_width": null,
            "object_fit": null,
            "object_position": null,
            "order": null,
            "overflow": null,
            "overflow_x": null,
            "overflow_y": null,
            "padding": null,
            "right": null,
            "top": null,
            "visibility": null,
            "width": null
          }
        },
        "e46ffa9f5a7d42679c4b0ccba3c38f3d": {
          "model_module": "@jupyter-widgets/controls",
          "model_name": "DescriptionStyleModel",
          "model_module_version": "1.5.0",
          "state": {
            "_model_module": "@jupyter-widgets/controls",
            "_model_module_version": "1.5.0",
            "_model_name": "DescriptionStyleModel",
            "_view_count": null,
            "_view_module": "@jupyter-widgets/base",
            "_view_module_version": "1.2.0",
            "_view_name": "StyleView",
            "description_width": ""
          }
        },
        "0a11a2c588fa4e2fb8e0dd0e40a15d62": {
          "model_module": "@jupyter-widgets/base",
          "model_name": "LayoutModel",
          "model_module_version": "1.2.0",
          "state": {
            "_model_module": "@jupyter-widgets/base",
            "_model_module_version": "1.2.0",
            "_model_name": "LayoutModel",
            "_view_count": null,
            "_view_module": "@jupyter-widgets/base",
            "_view_module_version": "1.2.0",
            "_view_name": "LayoutView",
            "align_content": null,
            "align_items": null,
            "align_self": null,
            "border": null,
            "bottom": null,
            "display": null,
            "flex": null,
            "flex_flow": null,
            "grid_area": null,
            "grid_auto_columns": null,
            "grid_auto_flow": null,
            "grid_auto_rows": null,
            "grid_column": null,
            "grid_gap": null,
            "grid_row": null,
            "grid_template_areas": null,
            "grid_template_columns": null,
            "grid_template_rows": null,
            "height": null,
            "justify_content": null,
            "justify_items": null,
            "left": null,
            "margin": null,
            "max_height": null,
            "max_width": null,
            "min_height": null,
            "min_width": null,
            "object_fit": null,
            "object_position": null,
            "order": null,
            "overflow": null,
            "overflow_x": null,
            "overflow_y": null,
            "padding": null,
            "right": null,
            "top": null,
            "visibility": null,
            "width": null
          }
        },
        "a006b0fcfaa14b86a1bb39ad5317d318": {
          "model_module": "@jupyter-widgets/controls",
          "model_name": "ProgressStyleModel",
          "model_module_version": "1.5.0",
          "state": {
            "_model_module": "@jupyter-widgets/controls",
            "_model_module_version": "1.5.0",
            "_model_name": "ProgressStyleModel",
            "_view_count": null,
            "_view_module": "@jupyter-widgets/base",
            "_view_module_version": "1.2.0",
            "_view_name": "StyleView",
            "bar_color": null,
            "description_width": ""
          }
        },
        "2b886bfee04a4c668b74ac1b5a971b72": {
          "model_module": "@jupyter-widgets/base",
          "model_name": "LayoutModel",
          "model_module_version": "1.2.0",
          "state": {
            "_model_module": "@jupyter-widgets/base",
            "_model_module_version": "1.2.0",
            "_model_name": "LayoutModel",
            "_view_count": null,
            "_view_module": "@jupyter-widgets/base",
            "_view_module_version": "1.2.0",
            "_view_name": "LayoutView",
            "align_content": null,
            "align_items": null,
            "align_self": null,
            "border": null,
            "bottom": null,
            "display": null,
            "flex": null,
            "flex_flow": null,
            "grid_area": null,
            "grid_auto_columns": null,
            "grid_auto_flow": null,
            "grid_auto_rows": null,
            "grid_column": null,
            "grid_gap": null,
            "grid_row": null,
            "grid_template_areas": null,
            "grid_template_columns": null,
            "grid_template_rows": null,
            "height": null,
            "justify_content": null,
            "justify_items": null,
            "left": null,
            "margin": null,
            "max_height": null,
            "max_width": null,
            "min_height": null,
            "min_width": null,
            "object_fit": null,
            "object_position": null,
            "order": null,
            "overflow": null,
            "overflow_x": null,
            "overflow_y": null,
            "padding": null,
            "right": null,
            "top": null,
            "visibility": null,
            "width": null
          }
        },
        "8c4e9dfc08134b80be2cb10f21291f7e": {
          "model_module": "@jupyter-widgets/controls",
          "model_name": "DescriptionStyleModel",
          "model_module_version": "1.5.0",
          "state": {
            "_model_module": "@jupyter-widgets/controls",
            "_model_module_version": "1.5.0",
            "_model_name": "DescriptionStyleModel",
            "_view_count": null,
            "_view_module": "@jupyter-widgets/base",
            "_view_module_version": "1.2.0",
            "_view_name": "StyleView",
            "description_width": ""
          }
        }
      }
    }
  },
  "nbformat": 4,
  "nbformat_minor": 0
}